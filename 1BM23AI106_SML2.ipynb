{
 "cells": [
  {
   "cell_type": "code",
   "execution_count": 8,
   "id": "0c17fdf1",
   "metadata": {},
   "outputs": [
    {
     "name": "stdout",
     "output_type": "stream",
     "text": [
      "\n",
      "Gradient Descent:\n",
      "Intercept: -50411879574554376.0000, Slope: 2883700142525104.0000\n"
     ]
    },
    {
     "data": {
      "image/png": "[encoded data removed]",
      "text/plain": [
       "<Figure size 640x480 with 1 Axes>"
      ]
     },
     "metadata": {},
     "output_type": "display_data"
    }
   ],
   "source": [
    "import numpy as np\n",
    "import pandas as pd\n",
    "import statsmodels.api as sm\n",
    "import matplotlib.pyplot as plt\n",
    "\n",
    "# Dataset\n",
    "data = {\n",
    "    \"shear\": [2160.70, 1680.15, 2318.00, 2063.30, 2209.30, 2209.50, 1710.30, 1786.70,\n",
    "              2577.90, 2359.90, 2258.70, 2167.20, 2401.55, 1781.80, 2338.75, 1767.30,\n",
    "              2055.50, 2416.40, 2202.50, 2656.20, 1755.70],\n",
    "    \"age\": [15.50, 23.75, 8.00, 17.00, 5.50, 19.00, 24.00, 2.50, 7.50, 11.00, 13.00,\n",
    "            3.75, 25.00, 9.75, 22.00, 18.00, 6.00, 12.50, 2.00, 21.50, 0.00]\n",
    "}\n",
    "\n",
    "# Create DataFrame\n",
    "df = pd.DataFrame(data)\n",
    "\n",
    "# Target and feature\n",
    "y = df['shear'].values\n",
    "X = df['age'].values\n",
    "X = sm.add_constant(X)  # Add intercept term\n",
    "\n",
    "# Gradient Descent Function\n",
    "def gradient_descent(X, y, initial_learning_rate=0.01, decay_rate=0.01, n_iterations=1000, tolerance=1e-6):\n",
    "    m = len(y)\n",
    "    theta = np.random.randn(X.shape[1]) \n",
    "\n",
    "    for iteration in range(n_iterations):\n",
    "        predictions = X.dot(theta)\n",
    "        errors = predictions - y\n",
    "        gradients = (2/m) * X.T.dot(errors)\n",
    "        \n",
    "        learning_rate = initial_learning_rate / (1 + decay_rate * iteration)\n",
    "        theta -= learning_rate * gradients\n",
    "        \n",
    "        error = np.mean(errors ** 2)\n",
    "        \n",
    "        if error < tolerance:\n",
    "            print(f\"Converged after {iteration+1} iterations\")\n",
    "            break\n",
    "    \n",
    "    return theta\n",
    "\n",
    "# Run gradient descent\n",
    "theta_gd = gradient_descent(X, y)\n",
    "\n",
    "print(\"\\nGradient Descent:\")\n",
    "print(f\"Intercept: {theta_gd[0]:.4f}, Slope: {theta_gd[1]:.4f}\")\n",
    "\n",
    "# Plotting the data and regression line\n",
    "plt.scatter(df['age'], df['shear'], color='blue', label='Data points')\n",
    "plt.plot(df['age'], X.dot(theta_gd), color='red', label='Gradient Descent Fit')\n",
    "plt.xlabel('Age')\n",
    "plt.ylabel('Shear')\n",
    "plt.title('Linear Regression Fit using Gradient Descent')\n",
    "plt.legend()\n",
    "plt.show()\n"
   ]
  },
  {
   "cell_type": "code",
   "execution_count": 6,
   "id": "771493b5",
   "metadata": {},
   "outputs": [
    {
     "name": "stdout",
     "output_type": "stream",
     "text": [
      "\n",
      "Gradient Descent:\n",
      "Intercept:-4280.078827182223, Slope:-54780.755075910325\n"
     ]
    }
   ],
   "source": [
    "import numpy as np\n",
    "import pandas as pd\n",
    "import statsmodels.api as sm\n",
    "import matplotlib.pyplot as plt\n",
    "\n",
    "\n",
    "data = {\n",
    "    \"shear\": [2160.70, 1680.15, 2318.00, 2063.30, 2209.30, 2209.50, 1710.30, 1786.70,\n",
    "              2577.90, 2359.90, 2258.70, 2167.20, 2401.55, 1781.80, 2338.75, 1767.30,\n",
    "              2055.50, 2416.40, 2202.50, 2656.20, 1755.70],\n",
    "    \"age\": [15.50, 23.75, 8.00, 17.00, 5.50, 19.00, 24.00, 2.50, 7.50, 11.00, 13.00,\n",
    "            3.75, 25.00, 9.75, 22.00, 18.00, 6.00, 12.50, 2.00, 21.50, 0.00]\n",
    "}\n",
    "\n",
    "\n",
    "df = pd.DataFrame(data)\n",
    "\n",
    "y = df['shear']\n",
    "X = df['age']\n",
    "X = sm.add_constant(X) \n",
    "\n",
    "def gradient_descent(X, y, initial_learning_rate=0.01, decay_rate=0.01,n_iterations=1000):\n",
    "    m=len(y)\n",
    "    theta=np.random.randn(2)\n",
    "    \n",
    "    for iteration in range(n_iterations):\n",
    "        gradients=(2/m)*X.T.dot(X.dot(theta)-y)\n",
    "        learning_rate=initial_learning_rate / (1+decay_rate*iteration)\n",
    "        theta-=learning_rate*gradients\n",
    "        error=np.mean((X.dot(theta)-y)**2)\n",
    "        \n",
    "        if error >0.1:\n",
    "            iteration+=1\n",
    "        break\n",
    "    return gradients,theta\n",
    "    \n",
    "    \n",
    "theta_gd,theta=gradient_descent(X,y)\n",
    "print(\"\\nGradient Descent:\")\n",
    "print(f\"Intercept:{theta_gd[0]}, Slope:{theta_gd[1]}\")\n"
   ]
  },
  {
   "cell_type": "code",
   "execution_count": 7,
   "id": "cf920e11",
   "metadata": {},
   "outputs": [
    {
     "name": "stdout",
     "output_type": "stream",
     "text": [
      "\n",
      "Stochastic Gradient Descent:\n",
      "Intercept: 2108.5183, Slope: 11.7871\n"
     ]
    }
   ],
   "source": [
    "import numpy as np\n",
    "import pandas as pd\n",
    "import statsmodels.api as sm\n",
    "\n",
    "data = {\n",
    "    \"shear\": [2160.70, 1680.15, 2318.00, 2063.30, 2209.30, 2209.50, 1710.30, 1786.70,\n",
    "              2577.90, 2359.90, 2258.70, 2167.20, 2401.55, 1781.80, 2338.75, 1767.30,\n",
    "              2055.50, 2416.40, 2202.50, 2656.20, 1755.70],\n",
    "    \"age\": [15.50, 23.75, 8.00, 17.00, 5.50, 19.00, 24.00, 2.50, 7.50, 11.00, 13.00,\n",
    "            3.75, 25.00, 9.75, 22.00, 18.00, 6.00, 12.50, 2.00, 21.50, 0.00]\n",
    "}\n",
    "\n",
    "df = pd.DataFrame(data)\n",
    "y = df['shear'].values\n",
    "X = df['age'].values\n",
    "X = sm.add_constant(X) \n",
    "\n",
    "def stochastic_gradient_descent(X, y, learning_rate=0.001, n_iterations=100000):\n",
    "    m = len(y)\n",
    "    theta = np.array([3000, -0.1]) \n",
    "\n",
    "    for iteration in range(n_iterations):\n",
    "        random_index = np.random.randint(m)\n",
    "        xi = X[random_index:random_index+1]  \n",
    "        yi = y[random_index:random_index+1]  \n",
    "        \n",
    "       \n",
    "        gradients = 2 * xi.T.dot(xi.dot(theta) - yi)\n",
    "        \n",
    "        theta -= learning_rate * gradients.flatten() \n",
    "    return theta\n",
    "\n",
    "theta_sgd = stochastic_gradient_descent(X, y)\n",
    "\n",
    "print(\"\\nStochastic Gradient Descent:\")\n",
    "print(f\"Intercept: {theta_sgd[0]:.4f}, Slope: {theta_sgd[1]:.4f}\")\n"
   ]
  },
  {
   "cell_type": "code",
   "execution_count": null,
   "id": "40dc4324",
   "metadata": {},
   "outputs": [],
   "source": []
  }
 ],
 "metadata": {
  "kernelspec": {
   "display_name": "Python 3 (ipykernel)",
   "language": "python",
   "name": "python3"
  },
  "language_info": {
   "codemirror_mode": {
    "name": "ipython",
    "version": 3
   },
   "file_extension": ".py",
   "mimetype": "text/x-python",
   "name": "python",
   "nbconvert_exporter": "python",
   "pygments_lexer": "ipython3",
   "version": "3.11.3"
  }
 },
 "nbformat": 4,
 "nbformat_minor": 5
}
